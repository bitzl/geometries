{
 "cells": [
  {
   "cell_type": "code",
   "execution_count": 1,
   "metadata": {},
   "outputs": [
    {
     "name": "stdout",
     "output_type": "stream",
     "text": [
      "Paper(A4, 210×297)\n",
      "Card(60×90) 3.50 3.30   9\n",
      "Card(44×67) 4.77 4.43  16\n",
      "Card(39×59) 5.38 5.03  25\n",
      "\n",
      "Paper(A4, 297×210)\n",
      "Card(60×90) 4.95 2.33   8\n",
      "Card(44×67) 6.75 3.13  18\n",
      "Card(39×59) 7.62 3.56  21\n",
      "\n",
      "Paper(A3, 297×420)\n",
      "Card(60×90) 4.95 4.67  16\n",
      "Card(44×67) 6.75 6.27  36\n",
      "Card(39×59) 7.62 7.12  49\n",
      "\n",
      "Paper(A3, 420×297)\n",
      "Card(60×90) 7.00 3.30  21\n",
      "Card(44×67) 9.55 4.43  36\n",
      "Card(39×59) 10.77 5.03  50\n",
      "\n"
     ]
    }
   ],
   "source": [
    "from geometries.cards import Card, spielkarte, patience_karte\n",
    "from geometries.paper import A3, A4\n",
    "from geometries.fitting import Fitting\n",
    "\n",
    "for paper in [A4, A4.landscape, A3, A3.landscape]:\n",
    "    print(paper)\n",
    "    for card in [spielkarte, patience_karte, Card(width=39, height=59)]:\n",
    "        fitting = Fitting.create(card=card, paper=paper)\n",
    "        print(\n",
    "            card,\n",
    "            f\"{fitting.columns:.2f}\",\n",
    "            f\"{fitting.rows:.2f}\",\n",
    "            f\"{fitting.cards_per_page:>3}\",\n",
    "        )\n",
    "    print()"
   ]
  },
  {
   "cell_type": "code",
   "execution_count": 2,
   "metadata": {},
   "outputs": [
    {
     "data": {
      "text/plain": [
       "(42.0, 59.4)"
      ]
     },
     "execution_count": 2,
     "metadata": {},
     "output_type": "execute_result"
    }
   ],
   "source": [
    "A4.width/5, A4.height/5"
   ]
  },
  {
   "cell_type": "code",
   "execution_count": 80,
   "metadata": {},
   "outputs": [
    {
     "data": {
      "text/plain": [
       "63.0"
      ]
     },
     "execution_count": 80,
     "metadata": {},
     "output_type": "execute_result"
    }
   ],
   "source": [
    "42 * 1.5"
   ]
  },
  {
   "cell_type": "code",
   "execution_count": 81,
   "metadata": {},
   "outputs": [
    {
     "data": {
      "text/plain": [
       "39.333333333333336"
      ]
     },
     "execution_count": 81,
     "metadata": {},
     "output_type": "execute_result"
    }
   ],
   "source": [
    "59 / 1.5"
   ]
  },
  {
   "cell_type": "code",
   "execution_count": null,
   "metadata": {},
   "outputs": [],
   "source": []
  }
 ],
 "metadata": {
  "kernelspec": {
   "display_name": "geometries-zIA7bG_s-py3.11",
   "language": "python",
   "name": "python3"
  },
  "language_info": {
   "codemirror_mode": {
    "name": "ipython",
    "version": 3
   },
   "file_extension": ".py",
   "mimetype": "text/x-python",
   "name": "python",
   "nbconvert_exporter": "python",
   "pygments_lexer": "ipython3",
   "version": "3.11.6"
  }
 },
 "nbformat": 4,
 "nbformat_minor": 2
}
