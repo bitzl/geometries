{
 "cells": [
  {
   "cell_type": "code",
   "execution_count": 7,
   "metadata": {},
   "outputs": [
    {
     "name": "stdout",
     "output_type": "stream",
     "text": [
      "Paper(A4, 210×297)      Columns    Rows    Cards  Sheet\n",
      "--------------------  ---------  ------  -------  -------\n",
      "Card(60×90)                3.5     3.3         9  (3×3)\n",
      "Card(44×67)                4.77    4.43       16  (4×4)\n",
      "Card(42×63)                5       4.71       20  (5×4)\n",
      "Card(39×59)                5.38    5.03       25  (5×5)\n",
      "\n",
      "Paper(A4, 297×210)      Columns    Rows    Cards  Sheet\n",
      "--------------------  ---------  ------  -------  -------\n",
      "Card(60×90)                4.95    2.33        8  (4×2)\n",
      "Card(44×67)                6.75    3.13       18  (6×3)\n",
      "Card(42×63)                7.07    3.33       21  (7×3)\n",
      "Card(39×59)                7.62    3.56       21  (7×3)\n",
      "\n",
      "Paper(A3, 297×420)      Columns    Rows    Cards  Sheet\n",
      "--------------------  ---------  ------  -------  -------\n",
      "Card(60×90)                4.95    4.67       16  (4×4)\n",
      "Card(44×67)                6.75    6.27       36  (6×6)\n",
      "Card(42×63)                7.07    6.67       42  (7×6)\n",
      "Card(39×59)                7.62    7.12       49  (7×7)\n",
      "\n",
      "Paper(A3, 420×297)      Columns    Rows    Cards  Sheet\n",
      "--------------------  ---------  ------  -------  -------\n",
      "Card(60×90)                7       3.3        21  (7×3)\n",
      "Card(44×67)                9.55    4.43       36  (9×4)\n",
      "Card(42×63)               10       4.71       40  (10×4)\n",
      "Card(39×59)               10.77    5.03       50  (10×5)\n",
      "\n"
     ]
    }
   ],
   "source": [
    "from geometries.cards import Card, spielkarte, patience_karte\n",
    "from geometries.paper import A3, A4\n",
    "from geometries.fitting import Fitting\n",
    "from tabulate import tabulate\n",
    "\n",
    "CARDS = [\n",
    "    spielkarte,\n",
    "    patience_karte,\n",
    "    Card(width=39, height=59),\n",
    "    Card(width=42, height=63),\n",
    "]\n",
    "\n",
    "for paper in [A4, A4.landscape, A3, A3.landscape]:\n",
    "    rows = []\n",
    "    for card in sorted(CARDS, reverse=True):\n",
    "        fitting = Fitting.create(card=card, paper=paper)\n",
    "        rows.append((\n",
    "            card,\n",
    "            f\"{fitting.fractional_columns:.2f}\",\n",
    "            f\"{fitting.fractional_rows:.2f}\",\n",
    "            f\"{fitting.cards_per_sheet:>3}\",\n",
    "            f\"({fitting.columns}×{fitting.rows})\",\n",
    "        ))\n",
    "    print(tabulate(rows, headers=[paper, \"Columns\", \"Rows\", \"Cards\", \"Sheet\"]))\n",
    "    print()"
   ]
  },
  {
   "cell_type": "code",
   "execution_count": 2,
   "metadata": {},
   "outputs": [
    {
     "data": {
      "text/plain": [
       "(42.0, 59.4)"
      ]
     },
     "execution_count": 2,
     "metadata": {},
     "output_type": "execute_result"
    }
   ],
   "source": [
    "A4.width/5, A4.height/5"
   ]
  },
  {
   "cell_type": "code",
   "execution_count": 80,
   "metadata": {},
   "outputs": [
    {
     "data": {
      "text/plain": [
       "63.0"
      ]
     },
     "execution_count": 80,
     "metadata": {},
     "output_type": "execute_result"
    }
   ],
   "source": [
    "42 * 1.5"
   ]
  },
  {
   "cell_type": "code",
   "execution_count": 81,
   "metadata": {},
   "outputs": [
    {
     "data": {
      "text/plain": [
       "39.333333333333336"
      ]
     },
     "execution_count": 81,
     "metadata": {},
     "output_type": "execute_result"
    }
   ],
   "source": [
    "59 / 1.5"
   ]
  },
  {
   "cell_type": "code",
   "execution_count": null,
   "metadata": {},
   "outputs": [],
   "source": []
  }
 ],
 "metadata": {
  "kernelspec": {
   "display_name": "geometries-zIA7bG_s-py3.11",
   "language": "python",
   "name": "python3"
  },
  "language_info": {
   "codemirror_mode": {
    "name": "ipython",
    "version": 3
   },
   "file_extension": ".py",
   "mimetype": "text/x-python",
   "name": "python",
   "nbconvert_exporter": "python",
   "pygments_lexer": "ipython3",
   "version": "3.11.6"
  }
 },
 "nbformat": 4,
 "nbformat_minor": 2
}
